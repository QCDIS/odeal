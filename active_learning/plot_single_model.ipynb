{
 "cells": [
  {
   "attachments": {},
   "cell_type": "markdown",
   "metadata": {},
   "source": [
    "# Plot the results for query strategy comparison"
   ]
  },
  {
   "cell_type": "code",
   "execution_count": 60,
   "metadata": {},
   "outputs": [],
   "source": [
    "float_numbers = [\n",
    "    '4903052',\n",
    "    '4903054',\n",
    "    '4903058',\n",
    "    '4903215',\n",
    "    '4903217',\n",
    "    '4903218',\n",
    "    '4903220'\n",
    "]\n",
    "float_number = float_numbers[6]\n",
    "\n",
    "RESULT_PATH = f\"../results/randomsplit/{float_number}\"\n",
    "\n",
    "QUERY_STRATEGIES = ['random', 'uncertainty']\n",
    "\n",
    "n_initial = 100 # Replace with the desired n_initial value\n",
    "k = 1  # Replace with the desired k value\n",
    "split_method = 'random'\n",
    "# split_method = 'ocsvm'\n"
   ]
  },
  {
   "cell_type": "code",
   "execution_count": 61,
   "metadata": {},
   "outputs": [],
   "source": [
    "COLOR_MAP = {\n",
    "        'KNN': 'red',\n",
    "        'XGBoost': 'green',\n",
    "        'CatBoost': 'blue',\n",
    "        'LightGBM': 'purple'\n",
    "    }\n",
    "\n",
    "LINE_MAP = {\n",
    "    'random': ':',\n",
    "    'uncertainty': '-',\n",
    "    'xxx': '--',\n",
    "    'xxx': '_.'\n",
    "}"
   ]
  },
  {
   "cell_type": "code",
   "execution_count": 62,
   "metadata": {},
   "outputs": [],
   "source": [
    "import os\n",
    "import glob\n",
    "import pandas as pd\n",
    "import matplotlib.pyplot as plt\n",
    "\n",
    "def extract_model_name(file_path):\n",
    "    # Extracts the model name from a file path\n",
    "    file_name = os.path.basename(file_path)\n",
    "    return file_name.split('_')[0]\n",
    "\n",
    "def read_num_samples(file_path):\n",
    "    # Reads the number of samples from a CSV file\n",
    "    df = pd.read_csv(file_path)\n",
    "    return df['num_samples'].values # Assuming num_samples is in the first column\n",
    "\n",
    "\n",
    "def group_files_by_model_name(directory):\n",
    "    # Groups the files based on the model name in the second layer of subdirectories\n",
    "    grouped_files = {}\n",
    "    \n",
    "    subdirs = next(os.walk(directory))[1]  # Get the subdirectory names in the first layer\n",
    "    \n",
    "    for subdir in subdirs:\n",
    "        if subdir not in QUERY_STRATEGIES: \n",
    "            continue\n",
    "        \n",
    "        subdir_path = os.path.join(directory, subdir)\n",
    "        \n",
    "        if os.path.isdir(subdir_path):\n",
    "            subdir_files = glob.glob(os.path.join(subdir_path, f'*{split_method}_{n_initial}_initial_{k}_k.csv'))\n",
    "            \n",
    "            for file_path in subdir_files:\n",
    "                model_name = os.path.basename(file_path).split('_')[0]\n",
    "                \n",
    "                if model_name not in grouped_files:\n",
    "                    grouped_files[model_name] = {}\n",
    "                \n",
    "                if subdir not in grouped_files[model_name]:\n",
    "                    grouped_files[model_name][subdir] = []\n",
    "                \n",
    "                grouped_files[model_name][subdir].append(file_path)\n",
    "    \n",
    "    return grouped_files\n",
    "\n",
    "def read_f1_scores(file_paths):\n",
    "    # Reads the F1 scores from CSV files\n",
    "    f1_scores = []\n",
    "    \n",
    "    for file_path in file_paths:\n",
    "        df = pd.read_csv(file_path)\n",
    "        f1_scores.append(df['F1-score'].values)  # Assuming F1 Score is in the first column\n",
    "    \n",
    "    return f1_scores\n",
    "\n",
    "def plot_f1_scores(grouped_files):\n",
    "    # Plot F1 scores with different query strategies, keeping one model per figure\n",
    "    for model_name, query_strategies in grouped_files.items():\n",
    "        f1_final_scores = {}\n",
    "        plt.figure(figsize=(4,2))\n",
    "        for query_strategy, file_paths in query_strategies.items(): \n",
    "            f1_scores = read_f1_scores(file_paths)[0]\n",
    "\n",
    "            f1_final_scores[query_strategy] = f1_scores[-1]\n",
    "\n",
    "            num_samples = read_num_samples(file_paths[0])  # Assuming all files have the same num_samples\n",
    "            # plt.plot(num_samples, f1_score, label=query_strategy, linewidth=2.0, color=COLOR_MAP[model_name], linestyle = LINE_MAP[query_strategy])\n",
    "            plt.plot(num_samples, f1_scores, label=query_strategy, linewidth=1.5, color='black', linestyle = LINE_MAP[query_strategy])\n",
    "\n",
    "        plt.xlabel('# queried samples')\n",
    "        plt.ylabel('F1-score')\n",
    "        plt.legend(loc='best')\n",
    "        # plt.grid(True)\n",
    "        print(f'========== Model:{model_name}   Initial:{n_initial}   K:{k} ==========')\n",
    "        print(f\"Uncertainty: {f1_final_scores['uncertainty'].round(4)} \")\n",
    "        print(f\"Improve from random to uncertainty: {((f1_final_scores['uncertainty']/f1_final_scores['random']-1)*100).round(1)}% \")\n",
    "        figure_file = os.path.join(RESULT_PATH, f'F1_{model_name}_{n_initial}_initial_{k}_k.png')\n",
    "        plt.savefig(figure_file, dpi=300, bbox_inches='tight')\n",
    "        plt.show()"
   ]
  },
  {
   "cell_type": "code",
   "execution_count": 63,
   "metadata": {},
   "outputs": [
    {
     "name": "stdout",
     "output_type": "stream",
     "text": [
      "========== Model:XGBoost   Initial:100   K:1 ==========\n",
      "Uncertainty: 0.884 \n"
     ]
    },
    {
     "ename": "KeyError",
     "evalue": "'random'",
     "output_type": "error",
     "traceback": [
      "\u001b[0;31m---------------------------------------------------------------------------\u001b[0m",
      "\u001b[0;31mKeyError\u001b[0m                                  Traceback (most recent call last)",
      "Cell \u001b[0;32mIn[63], line 6\u001b[0m\n\u001b[1;32m      2\u001b[0m directory \u001b[39m=\u001b[39m RESULT_PATH  \u001b[39m# Replace with the actual directory path\u001b[39;00m\n\u001b[1;32m      4\u001b[0m grouped_files \u001b[39m=\u001b[39m group_files_by_model_name(directory)\n\u001b[0;32m----> 6\u001b[0m plot_f1_scores(grouped_files)\n",
      "Cell \u001b[0;32mIn[62], line 75\u001b[0m, in \u001b[0;36mplot_f1_scores\u001b[0;34m(grouped_files)\u001b[0m\n\u001b[1;32m     73\u001b[0m \u001b[39mprint\u001b[39m(\u001b[39mf\u001b[39m\u001b[39m'\u001b[39m\u001b[39m========== Model:\u001b[39m\u001b[39m{\u001b[39;00mmodel_name\u001b[39m}\u001b[39;00m\u001b[39m   Initial:\u001b[39m\u001b[39m{\u001b[39;00mn_initial\u001b[39m}\u001b[39;00m\u001b[39m   K:\u001b[39m\u001b[39m{\u001b[39;00mk\u001b[39m}\u001b[39;00m\u001b[39m ==========\u001b[39m\u001b[39m'\u001b[39m)\n\u001b[1;32m     74\u001b[0m \u001b[39mprint\u001b[39m(\u001b[39mf\u001b[39m\u001b[39m\"\u001b[39m\u001b[39mUncertainty: \u001b[39m\u001b[39m{\u001b[39;00mf1_final_scores[\u001b[39m'\u001b[39m\u001b[39muncertainty\u001b[39m\u001b[39m'\u001b[39m]\u001b[39m.\u001b[39mround(\u001b[39m4\u001b[39m)\u001b[39m}\u001b[39;00m\u001b[39m \u001b[39m\u001b[39m\"\u001b[39m)\n\u001b[0;32m---> 75\u001b[0m \u001b[39mprint\u001b[39m(\u001b[39mf\u001b[39m\u001b[39m\"\u001b[39m\u001b[39mImprove from random to uncertainty: \u001b[39m\u001b[39m{\u001b[39;00m((f1_final_scores[\u001b[39m'\u001b[39m\u001b[39muncertainty\u001b[39m\u001b[39m'\u001b[39m]\u001b[39m/\u001b[39mf1_final_scores[\u001b[39m'\u001b[39m\u001b[39mrandom\u001b[39m\u001b[39m'\u001b[39m]\u001b[39m-\u001b[39m\u001b[39m1\u001b[39m)\u001b[39m*\u001b[39m\u001b[39m100\u001b[39m)\u001b[39m.\u001b[39mround(\u001b[39m1\u001b[39m)\u001b[39m}\u001b[39;00m\u001b[39m% \u001b[39m\u001b[39m\"\u001b[39m)\n\u001b[1;32m     76\u001b[0m figure_file \u001b[39m=\u001b[39m os\u001b[39m.\u001b[39mpath\u001b[39m.\u001b[39mjoin(RESULT_PATH, \u001b[39mf\u001b[39m\u001b[39m'\u001b[39m\u001b[39mF1_\u001b[39m\u001b[39m{\u001b[39;00mmodel_name\u001b[39m}\u001b[39;00m\u001b[39m_\u001b[39m\u001b[39m{\u001b[39;00mn_initial\u001b[39m}\u001b[39;00m\u001b[39m_initial_\u001b[39m\u001b[39m{\u001b[39;00mk\u001b[39m}\u001b[39;00m\u001b[39m_k.png\u001b[39m\u001b[39m'\u001b[39m)\n\u001b[1;32m     77\u001b[0m plt\u001b[39m.\u001b[39msavefig(figure_file, dpi\u001b[39m=\u001b[39m\u001b[39m300\u001b[39m, bbox_inches\u001b[39m=\u001b[39m\u001b[39m'\u001b[39m\u001b[39mtight\u001b[39m\u001b[39m'\u001b[39m)\n",
      "\u001b[0;31mKeyError\u001b[0m: 'random'"
     ]
    },
    {
     "data": {
      "image/png": "[encoded data removed]",
      "text/plain": [
       "<Figure size 400x200 with 1 Axes>"
      ]
     },
     "metadata": {},
     "output_type": "display_data"
    }
   ],
   "source": [
    "# Example usage\n",
    "directory = RESULT_PATH  # Replace with the actual directory path\n",
    "\n",
    "grouped_files = group_files_by_model_name(directory)\n",
    "\n",
    "plot_f1_scores(grouped_files)\n"
   ]
  },
  {
   "cell_type": "code",
   "execution_count": 64,
   "metadata": {},
   "outputs": [
    {
     "data": {
      "text/plain": [
       "{'XGBoost': {'uncertainty': ['../results/randomsplit/4903220/uncertainty/XGBoost_random_100_initial_1_k.csv']}}"
      ]
     },
     "execution_count": 64,
     "metadata": {},
     "output_type": "execute_result"
    }
   ],
   "source": [
    "grouped_files"
   ]
  },
  {
   "cell_type": "code",
   "execution_count": 65,
   "metadata": {},
   "outputs": [
    {
     "data": {
      "text/plain": [
       "1.8525472524721476"
      ]
     },
     "execution_count": 65,
     "metadata": {},
     "output_type": "execute_result"
    }
   ],
   "source": [
    "(8137/7989-1)*100"
   ]
  },
  {
   "cell_type": "code",
   "execution_count": null,
   "metadata": {},
   "outputs": [],
   "source": []
  }
 ],
 "metadata": {
  "kernelspec": {
   "display_name": "data-quality-gpu",
   "language": "python",
   "name": "python3"
  },
  "language_info": {
   "codemirror_mode": {
    "name": "ipython",
    "version": 3
   },
   "file_extension": ".py",
   "mimetype": "text/x-python",
   "name": "python",
   "nbconvert_exporter": "python",
   "pygments_lexer": "ipython3",
   "version": "3.8.13"
  },
  "orig_nbformat": 4
 },
 "nbformat": 4,
 "nbformat_minor": 2
}
