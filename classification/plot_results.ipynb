{
 "cells": [
  {
   "cell_type": "markdown",
   "metadata": {},
   "source": [
    "## Print the results for using all training data"
   ]
  },
  {
   "cell_type": "code",
   "execution_count": 1,
   "metadata": {},
   "outputs": [],
   "source": [
    "split_type = 'random'\n",
    "\n",
    "float_numbers = [\n",
    "    '4903052',\n",
    "    '4903054',\n",
    "    '4903058',\n",
    "    '4903215',\n",
    "    '4903217',\n",
    "    '4903218',\n",
    "    '4903220'\n",
    "]\n",
    "\n",
    "float_number = float_numbers[4]\n",
    "\n",
    "RESULT_DIR = f'../results/{split_type}split/{float_number}'"
   ]
  },
  {
   "cell_type": "code",
   "execution_count": 2,
   "metadata": {},
   "outputs": [
    {
     "name": "stdout",
     "output_type": "stream",
     "text": [
      "Float: 4903217\n",
      "\\begin{tabular}{lrrrr}\n",
      "\\toprule\n",
      "   Model &  Precision &  Recall &  F1-score &  Cohen's Kappa \\\\\n",
      "\\midrule\n",
      "     KNN &        1.0 &  0.9995 &    0.9998 &         0.9996 \\\\\n",
      " XGBoost &        1.0 &  0.9996 &    0.9998 &         0.9997 \\\\\n",
      "CatBoost &        1.0 &  0.9996 &    0.9998 &         0.9997 \\\\\n",
      "LightGBM &        1.0 &  0.9995 &    0.9997 &         0.9996 \\\\\n",
      "\\bottomrule\n",
      "\\end{tabular}\n",
      "\n"
     ]
    },
    {
     "name": "stderr",
     "output_type": "stream",
     "text": [
      "/tmp/ipykernel_2905163/1732732144.py:19: FutureWarning: In future versions `DataFrame.to_latex` is expected to utilise the base implementation of `Styler.to_latex` for formatting and rendering. The arguments signature may therefore change. It is recommended instead to use `DataFrame.style.to_latex` which also contains additional functionality.\n",
      "  latex_table = filtered_results.to_latex(index=False, escape=False)\n"
     ]
    }
   ],
   "source": [
    "import os\n",
    "import pandas as pd\n",
    "output_file = os.path.join(RESULT_DIR, 'random_sampling.csv')\n",
    "\n",
    "# Read the results from the output file\n",
    "results_df = pd.read_csv(output_file)\n",
    "\n",
    "# Filter the results for sampling ratio 0.99\n",
    "filtered_results = results_df[results_df['Sampling Ratio'] == 0.99]\n",
    "\n",
    "# Select the desired columns\n",
    "selected_columns = ['Model', 'Precision', 'Recall', 'F1-score', \"Cohen's Kappa\"]\n",
    "filtered_results = filtered_results[selected_columns]\n",
    "\n",
    "# Round numerical values to 4 decimals\n",
    "filtered_results = filtered_results.round(4)\n",
    "\n",
    "# Convert the results to LaTeX table format\n",
    "latex_table = filtered_results.to_latex(index=False, escape=False)\n",
    "\n",
    "# Print the LaTeX table\n",
    "print(f\"Float: {float_number}\")\n",
    "\n",
    "print(latex_table)\n"
   ]
  },
  {
   "cell_type": "markdown",
   "metadata": {},
   "source": [
    "## Plot model performances over sampling ratios"
   ]
  },
  {
   "cell_type": "code",
   "execution_count": 3,
   "metadata": {},
   "outputs": [
    {
     "ename": "NameError",
     "evalue": "name 'model_results' is not defined",
     "output_type": "error",
     "traceback": [
      "\u001b[0;31m---------------------------------------------------------------------------\u001b[0m",
      "\u001b[0;31mNameError\u001b[0m                                 Traceback (most recent call last)",
      "Cell \u001b[0;32mIn[3], line 66\u001b[0m\n\u001b[1;32m     63\u001b[0m sorted_results \u001b[39m=\u001b[39m filtered_results\u001b[39m.\u001b[39msort_values(by\u001b[39m=\u001b[39m[\u001b[39m'\u001b[39m\u001b[39mSampling Ratio\u001b[39m\u001b[39m'\u001b[39m], ascending\u001b[39m=\u001b[39m\u001b[39mTrue\u001b[39;00m)\n\u001b[1;32m     64\u001b[0m sorted_results[\u001b[39m'\u001b[39m\u001b[39mSampling Ratio\u001b[39m\u001b[39m'\u001b[39m] \u001b[39m=\u001b[39m pd\u001b[39m.\u001b[39mCategorical(sorted_results[\u001b[39m'\u001b[39m\u001b[39mSampling Ratio\u001b[39m\u001b[39m'\u001b[39m], categories\u001b[39m=\u001b[39mranked_ratios, ordered\u001b[39m=\u001b[39m\u001b[39mTrue\u001b[39;00m)\n\u001b[0;32m---> 66\u001b[0m x_values \u001b[39m=\u001b[39m model_results[\u001b[39m'\u001b[39m\u001b[39mSampling Ratio\u001b[39m\u001b[39m'\u001b[39m]\u001b[39m.\u001b[39mto_numpy()\u001b[39m# Creating linearly spaced x-values\u001b[39;00m\n\u001b[1;32m     68\u001b[0m \u001b[39mfor\u001b[39;00m model_name, model_results \u001b[39min\u001b[39;00m sorted_results\u001b[39m.\u001b[39mgroupby(\u001b[39m'\u001b[39m\u001b[39mModel\u001b[39m\u001b[39m'\u001b[39m):\n\u001b[1;32m     70\u001b[0m     label \u001b[39m=\u001b[39m model_name\n",
      "\u001b[0;31mNameError\u001b[0m: name 'model_results' is not defined"
     ]
    },
    {
     "data": {
      "image/png": "[encoded data removed]",
      "text/plain": [
       "<Figure size 600x400 with 1 Axes>"
      ]
     },
     "metadata": {},
     "output_type": "display_data"
    }
   ],
   "source": [
    "import pandas as pd\n",
    "import matplotlib.pyplot as plt\n",
    "\n",
    "\n",
    "\n",
    "# Define markers and labels for each model\n",
    "# model_markers = {\n",
    "#     'KNN': 'o',\n",
    "#     'XGBoost': 's',\n",
    "#     'CatBoost': 'D',\n",
    "#     'LightGBM': 'v'\n",
    "# }\n",
    "\n",
    "# COLOR_MAP = {\n",
    "#         'KNN': 'red',\n",
    "#         'XGBoost': 'green',\n",
    "#         'CatBoost': 'blue',\n",
    "#         'LightGBM': 'purple'\n",
    "#     }\n",
    "# COLOR_MAP = {\n",
    "#         'KNN': 'black',\n",
    "#         'XGBoost': 'black',\n",
    "#         'CatBoost': 'black',\n",
    "#         'LightGBM': 'black'\n",
    "#     }\n",
    "COLOR_MAP = {\n",
    "        '4903217': 'green', \n",
    "        '4903218': 'purple',\n",
    "        '4903220': 'blue',\n",
    "    }\n",
    "\n",
    "LABEL_MAP = {\n",
    "        '4903217': 'DS_high', \n",
    "        '4903218': 'DS_low1',\n",
    "        '4903220': 'DS_low4',\n",
    "}\n",
    "\n",
    "LINE_MAP = {\n",
    "        'KNN': '-',\n",
    "        'XGBoost': ':', \n",
    "        'CatBoost': '-.',\n",
    "        'LightGBM': '--', \n",
    "        # 'KNN+XGBoost+CatBoost+LightGBM': '-',\n",
    "    }\n",
    "\n",
    "# Plot the F1 scores for each model with decreasing sampling ratios using different markers and labels\n",
    "fig, ax = plt.subplots(figsize=[6,4])\n",
    "for float_number in ['4903217', '4903218']: \n",
    "    RESULT_DIR = f'../results/{split_type}split/{float_number}'\n",
    "    output_file = os.path.join(RESULT_DIR, 'random_sampling.csv')\n",
    "    figure_file = os.path.join(RESULT_DIR, 'random_sampling.png')  # Path to save the figure\n",
    "\n",
    "    # Read the results from the output file\n",
    "    results_df = pd.read_csv(output_file)\n",
    "\n",
    "    # Filter the results to exclude the specified model\n",
    "    filtered_results = results_df\n",
    "\n",
    "    # Rank the sampling ratios in ascending order\n",
    "    ranked_ratios = filtered_results.groupby('Sampling Ratio')['F1-score'].mean().sort_index(ascending=False).index\n",
    "\n",
    "    # Sort the results by the ranked sampling ratios in descending order\n",
    "    sorted_results = filtered_results.sort_values(by=['Sampling Ratio'], ascending=True)\n",
    "    sorted_results['Sampling Ratio'] = pd.Categorical(sorted_results['Sampling Ratio'], categories=ranked_ratios, ordered=True)\n",
    "\n",
    "    x_values = model_results['Sampling Ratio'].to_numpy()# Creating linearly spaced x-values\n",
    "\n",
    "    for model_name, model_results in sorted_results.groupby('Model'):\n",
    "\n",
    "        label = model_name\n",
    "\n",
    "        # marker = model_markers[model_name]\n",
    "        # ax.plot(model_results['Sampling Ratio'], model_results['F1 Score'], marker=marker, linewidth=2, label=label, color=COLOR_MAP[model_name])\n",
    "        ax.semilogx(x_values, model_results['F1-score'], linewidth=1.5, label=f'{LABEL_MAP[float_number]}, {model_name}', color=COLOR_MAP[float_number], linestyle=LINE_MAP[model_name])\n",
    "\n",
    "# Set plot labels and title\n",
    "plt.xlabel('Sampling ratio')\n",
    "plt.ylabel('F1-score')\n",
    "# plt.title('F1 Scores for Different Models')\n",
    "\n",
    "# Show the legend\n",
    "plt.legend()\n",
    "\n",
    "# Save the figure with a tight bounding box\n",
    "plt.savefig(figure_file, dpi = 300, bbox_inches='tight')\n",
    "\n",
    "# Show the plot\n",
    "print(f\"Float: {float_number}\")\n",
    "plt.show()"
   ]
  },
  {
   "cell_type": "code",
   "execution_count": null,
   "metadata": {},
   "outputs": [
    {
     "data": {
      "image/png": "[encoded data removed]",
      "text/plain": [
       "<Figure size 640x480 with 1 Axes>"
      ]
     },
     "metadata": {},
     "output_type": "display_data"
    }
   ],
   "source": [
    "import numpy as np\n",
    "import matplotlib.pyplot as plt\n",
    "\n",
    "# Sample data\n",
    "x_values = model_results['Sampling Ratio'].to_numpy()# Creating linearly spaced x-values\n",
    "\n",
    "# Apply the transformation -log(x) to the x-values\n",
    "transformed_x_values = -np.log(x_values)\n",
    "\n",
    "# Sample function for y-values (replace this with your actual data)\n",
    "y_values = np.sin(transformed_x_values)\n",
    "\n",
    "# Create a plot\n",
    "plt.plot(transformed_x_values, y_values)\n",
    "\n",
    "# Set x-axis label\n",
    "plt.xlabel(\"-log(x)\")\n",
    "\n",
    "# Show the plot\n",
    "plt.show()\n"
   ]
  },
  {
   "cell_type": "code",
   "execution_count": null,
   "metadata": {},
   "outputs": [
    {
     "data": {
      "text/plain": [
       "array([-6.90775528, -6.2146081 , -5.29831737, -4.60517019, -2.99573227,\n",
       "       -2.30258509, -0.69314718, -0.01005034])"
      ]
     },
     "execution_count": 24,
     "metadata": {},
     "output_type": "execute_result"
    }
   ],
   "source": [
    "transformed_x_values"
   ]
  },
  {
   "cell_type": "code",
   "execution_count": null,
   "metadata": {},
   "outputs": [],
   "source": []
  }
 ],
 "metadata": {
  "kernelspec": {
   "display_name": "data-quality-gpu",
   "language": "python",
   "name": "python3"
  },
  "language_info": {
   "codemirror_mode": {
    "name": "ipython",
    "version": 3
   },
   "file_extension": ".py",
   "mimetype": "text/x-python",
   "name": "python",
   "nbconvert_exporter": "python",
   "pygments_lexer": "ipython3",
   "version": "3.8.13"
  },
  "orig_nbformat": 4
 },
 "nbformat": 4,
 "nbformat_minor": 2
}
